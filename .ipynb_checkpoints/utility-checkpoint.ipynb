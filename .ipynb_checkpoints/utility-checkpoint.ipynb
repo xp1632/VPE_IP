{
 "cells": [
  {
   "cell_type": "code",
   "execution_count": 2,
   "id": "5e17f2de-34f1-4a1a-98a9-b9ea3cad7197",
   "metadata": {},
   "outputs": [],
   "source": [
    "import imagej\n",
    "ij = imagej.init('sc.fiji:fiji:2.14.0')"
   ]
  },
  {
   "cell_type": "code",
   "execution_count": 3,
   "id": "aba82821-c291-4be5-b336-b2caa39fd38d",
   "metadata": {},
   "outputs": [
    {
     "data": {
      "text/plain": [
       "'Available operations:\n",
       "\t(BitType out?) =\n",
       "\tnet.imagej.ops.convert.ConvertTypes$IntegerToBit(\n",
       "\t\tBitType out?,\n",
       "\t\tIntegerType in)\n",
       "\t(Img out?) =\n",
       "\tnet.imagej.ops.convert.ConvertImages$Bit(\n",
       "\t\tImg out?,\n",
       "\t\tIterableInterval in)\n",
       "\t(BitType out?) =\n",
       "\tnet.imagej.ops.convert.ConvertTypes$ComplexToBit(\n",
       "\t\tBitType out?,\n",
       "\t\tComplexType in)'"
      ]
     },
     "execution_count": 3,
     "metadata": {},
     "output_type": "execute_result"
    }
   ],
   "source": [
    "ij.op().help('convert.bit')"
   ]
  },
  {
   "cell_type": "code",
   "execution_count": 2,
   "id": "e98b17bc-cf3d-4182-a097-88f0b179dde3",
   "metadata": {},
   "outputs": [
    {
     "data": {
      "text/plain": [
       "'Available operations:\n",
       "\t(RealType out?) =\n",
       "\tnet.imagej.ops.threshold.otsu.ComputeOtsuThreshold(\n",
       "\t\tRealType out?,\n",
       "\t\tHistogram1d in)\n",
       "\t(IterableInterval out?) =\n",
       "\tnet.imagej.ops.threshold.ApplyThresholdMethod$Otsu(\n",
       "\t\tIterableInterval out?,\n",
       "\t\tIterableInterval in)\n",
       "\t(IterableInterval out) =\n",
       "\tnet.imagej.ops.threshold.ApplyThresholdMethodLocal$LocalOtsuThreshold(\n",
       "\t\tIterableInterval out,\n",
       "\t\tRandomAccessibleInterval in,\n",
       "\t\tShape shape,\n",
       "\t\tOutOfBoundsFactory outOfBoundsFactory?)'"
      ]
     },
     "execution_count": 2,
     "metadata": {},
     "output_type": "execute_result"
    }
   ],
   "source": [
    "ij.op().help('threshold.otsu')"
   ]
  },
  {
   "cell_type": "code",
   "execution_count": 4,
   "id": "c1e58a2c-d83c-4f91-9ad8-36cf32be79f7",
   "metadata": {},
   "outputs": [
    {
     "data": {
      "text/plain": [
       "'Available operations:\n",
       "\t(IterableInterval out) =\n",
       "\tnet.imagej.ops.filter.median.DefaultMedianFilter(\n",
       "\t\tIterableInterval out,\n",
       "\t\tRandomAccessibleInterval in,\n",
       "\t\tShape shape,\n",
       "\t\tOutOfBoundsFactory outOfBoundsFactory?)'"
      ]
     },
     "execution_count": 4,
     "metadata": {},
     "output_type": "execute_result"
    }
   ],
   "source": [
    "ij.op().help(\"filter.median\")"
   ]
  },
  {
   "cell_type": "code",
   "execution_count": null,
   "id": "23a2ee08-a32d-4106-9233-2818184e886c",
   "metadata": {
    "code type": "visual code"
   },
   "outputs": [],
   "source": [
    "{\"nodes\":[{\"id\":\"0\",\"type\":\"Flow Control.main\",\"position\":{\"x\":-225.4571440134489,\"y\":73.25983514834707},\"outputs\":{\"execOut\":{\"dataType\":\"exec\"}},\"title\":\"main\"},{\"id\":\"1\",\"type\":\"imageio.read_image\",\"position\":{\"x\":-43.92002235499547,\"y\":45.06077357029778},\"inputs\":{\"execIn\":{\"title\":\"execIn\",\"dataType\":\"exec\"},\"path\":{\"title\":\"path\",\"dataType\":\"string\"},\"mode\":{\"title\":\"mode\",\"value\":\"ImageReadMode.RGB\",\"dataType\":\"imageio.ImageReadMode\"}},\"outputs\":{\"execOut\":{\"title\":\"execOut\",\"dataType\":\"exec\"},\"image\":{\"title\":\"image\",\"dataType\":\"image\"}},\"title\":\"read_image\"},{\"id\":\"5\",\"type\":\"testSubclass.create_OutOfBoundFactory\",\"position\":{\"x\":271.28494519696073,\"y\":2.0549896727602572},\"inputs\":{\"execIn\":{\"title\":\"execIn\",\"dataType\":\"exec\"},\"chooseSubclass\":{\"title\":\"chooseSubclass\",\"value\":\"choose.Boarder\",\"dataType\":\"testSubclass.choose\"}},\"outputs\":{\"execOut\":{\"title\":\"execOut\",\"dataType\":\"exec\"},\"subclass\":{\"title\":\"subclass\",\"dataType\":\"string\"}},\"title\":\"create_OutOfBoundFactory\"},{\"id\":\"6\",\"type\":\"testSubclass.edge_preseve_smoothing\",\"position\":{\"x\":640.355182430161,\"y\":75.62946826505737},\"inputs\":{\"execIn\":{\"title\":\"execIn\",\"dataType\":\"exec\"},\"image\":{\"title\":\"image\",\"value\":{\"dataType\":\"numpy.ndarray\",\"metadata\":[{\"colorChannel\":\"grayscale\",\"isMiniBatched\":false,\"channelOrder\":\"channelLast\",\"intensityRange\":[\"0-255\"],\"device\":[\"cpu\"]}]},\"dataType\":\"image\"},\"range\":{\"title\":\"range\",\"value\":4,\"dataType\":\"integer\"},\"OutofBoundFactory\":{\"title\":\"OutofBoundFactory\",\"value\":\"\",\"dataType\":\"string\"}},\"outputs\":{\"execOut\":{\"title\":\"execOut\",\"dataType\":\"exec\"},\"image\":{\"title\":\"image\",\"dataType\":\"image\"}},\"title\":\"edge_preseve_smoothing\"},{\"id\":\"2\",\"type\":\"cell_segmentation_s6_e7_o1_m3_fillHole1.otsu_segmentation\",\"position\":{\"x\":973.6073658264634,\"y\":77.34980090400899},\"inputs\":{\"execIn\":{\"title\":\"execIn\",\"dataType\":\"exec\"},\"image\":{\"title\":\"image\",\"value\":{\"dataType\":\"numpy.ndarray\",\"metadata\":[{\"colorChannel\":\"grayscale\",\"isMiniBatched\":false,\"channelOrder\":\"channelLast\",\"intensityRange\":[\"0-255\"],\"device\":[\"cpu\"]}]},\"dataType\":\"image\"}},\"outputs\":{\"execOut\":{\"title\":\"execOut\",\"dataType\":\"exec\"},\"image\":{\"title\":\"image\",\"dataType\":\"image\"}},\"title\":\"otsu_segmentation\"},{\"id\":\"3\",\"type\":\"Tuple.Make Tuple\",\"position\":{\"x\":287.31589658145737,\"y\":276.24224238077437},\"inputs\":{\"input\":{\"title\":\"item\",\"value\":\"3\",\"dataType\":\"anyDataType\"},\"in_0\":{\"title\":\"item\",\"value\":\"4\",\"dataType\":\"anyDataType\"},\"in_1\":{\"title\":\"item\",\"value\":\"5\",\"dataType\":\"anyDataType\"}},\"outputs\":{\"string\":{\"title\":\"tuple\",\"dataType\":\"tuple\"}},\"dataType\":\"anyDataType\",\"title\":\"->\"},{\"id\":\"4\",\"type\":\"Tuple.Get\",\"position\":{\"x\":654.1557700609998,\"y\":329.0920546617254},\"inputs\":{\"input\":{\"title\":\"tuple\",\"value\":\"()\",\"dataType\":\"tuple\"},\"index\":{\"title\":\"index\",\"dataType\":\"integer\"}},\"outputs\":{\"element\":{\"title\":\"element\",\"dataType\":\"anyDataType\"}},\"dataType\":\"anyDataType\",\"title\":\"Get\"}],\"edges\":[{\"id\":\"reactflow__edge-0execOut-1execIn\",\"output\":\"0\",\"input\":\"1\",\"outputHandle\":\"execOut\",\"inputHandle\":\"execIn\",\"dataType\":\"exec\",\"style\":{\"strokeWidth\":2,\"stroke\":\"hsl(0, 0%, 0%)\"}},{\"id\":\"reactflow__edge-6execOut-2execIn\",\"output\":\"6\",\"input\":\"2\",\"outputHandle\":\"execOut\",\"inputHandle\":\"execIn\",\"dataType\":\"exec\",\"style\":{\"strokeWidth\":2,\"stroke\":\"hsl(0, 0%, 0%)\"}},{\"id\":\"reactflow__edge-6image-2image\",\"output\":\"6\",\"input\":\"2\",\"outputHandle\":\"image\",\"inputHandle\":\"image\",\"dataType\":\"image\",\"style\":{\"strokeWidth\":2,\"stroke\":\"hsl(300, 200%, 25%)\"}},{\"id\":\"reactflow__edge-5subclass-6OutofBoundFactory\",\"output\":\"5\",\"input\":\"6\",\"outputHandle\":\"subclass\",\"inputHandle\":\"OutofBoundFactory\",\"dataType\":\"string\",\"style\":{\"strokeWidth\":2,\"stroke\":\"hsl(60, 80%, 40%)\"}},{\"id\":\"reactflow__edge-1image-6image\",\"output\":\"1\",\"input\":\"6\",\"outputHandle\":\"image\",\"inputHandle\":\"image\",\"dataType\":\"image\",\"style\":{\"strokeWidth\":2,\"stroke\":\"hsl(300, 200%, 25%)\"}},{\"id\":\"reactflow__edge-1execOut-5execIn\",\"output\":\"1\",\"input\":\"5\",\"outputHandle\":\"execOut\",\"inputHandle\":\"execIn\",\"dataType\":\"exec\",\"style\":{\"strokeWidth\":2,\"stroke\":\"hsl(0, 0%, 0%)\"}},{\"id\":\"reactflow__edge-5execOut-6execIn\",\"output\":\"5\",\"input\":\"6\",\"outputHandle\":\"execOut\",\"inputHandle\":\"execIn\",\"dataType\":\"exec\",\"style\":{\"strokeWidth\":2,\"stroke\":\"hsl(0, 0%, 0%)\"}},{\"id\":\"reactflow__edge-3string-4input\",\"output\":\"3\",\"input\":\"4\",\"outputHandle\":\"string\",\"inputHandle\":\"input\",\"dataType\":\"tuple\",\"style\":{\"strokeWidth\":2,\"stroke\":\"hsl(200, 200%, 25%)\"}}]}"
   ]
  },
  {
   "cell_type": "code",
   "execution_count": 33,
   "id": "e36deab4-a99b-465f-ac21-23a9faafc1ba",
   "metadata": {},
   "outputs": [
    {
     "name": "stdout",
     "output_type": "stream",
     "text": [
      "filter.padShiftFFTKernel\n",
      "filter.padShiftFFTKernel\n",
      "filter.padFFTInput\n",
      "filter.padShiftFFTKernel\n",
      "filter.padInput\n",
      "filter.paddingIntervalCentered\n",
      "create.img\n",
      "create.imgLabeling\n",
      "create.kernelDiffraction\n",
      "filter.createFFTOutput\n",
      "filter.fftSize\n",
      "filter.fftSize\n",
      "filter.padFFTInput\n",
      "deconvolve.firstGuess\n",
      "deconvolve.normalizationFactor\n"
     ]
    }
   ],
   "source": [
    "def get_ops_with_input_type(ij, input_type):\n",
    "    # Get the OpService\n",
    "    ops = ij.op()\n",
    "\n",
    "    # Get all OpInfo objects\n",
    "    all_infos = ops.infos()\n",
    "\n",
    "    # Initialize a list to store Op names\n",
    "    op_names = []\n",
    "\n",
    "    # Iterate over all OpInfo objects\n",
    "    for info in all_infos:\n",
    "        # Get the inputs\n",
    "        inputs = info.inputs()\n",
    "\n",
    "        # Iterate over the inputs\n",
    "        for input in inputs:\n",
    "            if input.isRequired():\n",
    "                # Get the type of the input\n",
    "                current_input_type = str(input.getType())\n",
    "\n",
    "                # Remove 'interface ' or 'class ' prefix from the type string\n",
    "                if current_input_type.startswith('interface '):\n",
    "                    current_input_type = current_input_type[len('interface '):]\n",
    "                elif current_input_type.startswith('class '):\n",
    "                    current_input_type = current_input_type[len('class '):]\n",
    "\n",
    "                # Check if the current input type matches the desired input type\n",
    "                if current_input_type == input_type:\n",
    "                    # Get the Op name\n",
    "                    op_name = info.getName()\n",
    "                    \n",
    "                    # Check if the Op name is not None and not 'map'\n",
    "                    if op_name is not None and op_name != 'map':\n",
    "                        # Add the Op name to the list\n",
    "                        op_names.append(op_name)\n",
    "                    \n",
    "                    # No need to check other inputs of this Op\n",
    "                    break\n",
    "\n",
    "    # Return the list of Op names\n",
    "    return op_names\n",
    "\n",
    "# Usage:\n",
    "input_type = 'net.imglib2.Dimensions'\n",
    "op_names = get_ops_with_input_type(ij, input_type)\n",
    "for op_name in op_names:\n",
    "    print(op_name)\n"
   ]
  },
  {
   "cell_type": "code",
   "execution_count": 34,
   "id": "e4368ea1-7e50-4a6f-af72-45d9c1b54e29",
   "metadata": {},
   "outputs": [
    {
     "name": "stdout",
     "output_type": "stream",
     "text": [
      "This is input_types in table\n",
      "['boolean', 'java.lang.Boolean', 'java.lang.Double', 'java.lang.Integer', 'java.lang.String', 'net.imagej.ImgPlus', 'net.imglib2.algorithm.neighborhood.RectangleShape', 'net.imglib2.histogram.Histogram1d', 'net.imglib2.img.array.ArrayImg', 'net.imglib2.roi.labeling.ImgLabeling', 'net.imglib2.type.numeric.real.DoubleType', 'double', 'float', 'int', 'java.util.List', 'net.imglib2.Dimensions', 'net.imglib2.Interval', 'net.imglib2.IterableInterval', 'net.imglib2.Localizable', 'net.imglib2.RandomAccessible', 'net.imglib2.RandomAccessibleInterval', 'net.imglib2.algorithm.neighborhood.Shape', 'net.imglib2.img.Img', 'net.imglib2.type.BooleanType', 'net.imglib2.type.numeric.IntegerType', 'net.imglib2.type.numeric.NumericType', 'long', 'short']\n"
     ]
    },
    {
     "data": {
      "text/plain": [
       "['coloc.maxTKendallTau',\n",
       " 'convert.bit',\n",
       " 'convert.cfloat32',\n",
       " 'convert.cfloat64',\n",
       " 'convert.float32',\n",
       " 'convert.float64',\n",
       " 'convert.int16',\n",
       " 'convert.int32',\n",
       " 'convert.int64',\n",
       " 'convert.int8',\n",
       " 'convert.uint12',\n",
       " 'convert.uint128',\n",
       " 'convert.uint16',\n",
       " 'convert.uint2',\n",
       " 'convert.uint32',\n",
       " 'convert.uint4',\n",
       " 'convert.uint64',\n",
       " 'convert.uint8',\n",
       " 'copy.img',\n",
       " 'copy.imgLabeling',\n",
       " 'copy.iterableInterval',\n",
       " 'copy.rai',\n",
       " 'create.img',\n",
       " 'create.imgFactory',\n",
       " 'create.imgLabeling',\n",
       " 'create.imgPlus',\n",
       " 'create.integerType',\n",
       " 'create.kernelGauss',\n",
       " 'create.kernelLog',\n",
       " 'create.labelingMapping',\n",
       " 'create.nativeType',\n",
       " 'deconvolve.accelerate',\n",
       " 'deconvolve.normalizationFactor',\n",
       " 'deconvolve.richardsonLucy',\n",
       " 'deconvolve.richardsonLucyCorrection',\n",
       " 'deconvolve.richardsonLucyTV',\n",
       " 'deconvolve.richardsonLucyUpdate',\n",
       " 'eval',\n",
       " 'filter.addPoissonNoise',\n",
       " 'filter.allPartialDerivatives',\n",
       " 'filter.bilateral',\n",
       " 'filter.convolve',\n",
       " 'filter.correlate',\n",
       " 'filter.dog',\n",
       " 'filter.fft',\n",
       " 'filter.fftSize',\n",
       " 'filter.findEdges',\n",
       " 'filter.gauss',\n",
       " 'filter.hessian',\n",
       " 'filter.ifft',\n",
       " 'filter.max',\n",
       " 'filter.mean',\n",
       " 'filter.median',\n",
       " 'filter.min',\n",
       " 'filter.padFFTInput',\n",
       " 'filter.padInput',\n",
       " 'filter.padShiftFFTKernel',\n",
       " 'filter.paddingIntervalCentered',\n",
       " 'filter.paddingIntervalOrigin',\n",
       " 'filter.partialDerivative',\n",
       " 'filter.sigma',\n",
       " 'filter.sobel',\n",
       " 'filter.variance',\n",
       " 'geom.centerOfGravity',\n",
       " 'geom.centroid',\n",
       " 'geom.contour',\n",
       " 'geom.marchingCubes',\n",
       " 'geom.size',\n",
       " 'help',\n",
       " 'hog.hog',\n",
       " 'image.ascii',\n",
       " 'image.distancetransform',\n",
       " 'image.equation',\n",
       " 'image.integral',\n",
       " 'image.invert',\n",
       " 'image.normalize',\n",
       " 'image.squareIntegral',\n",
       " 'image.watershed',\n",
       " 'imagemoments.centralMoment00',\n",
       " 'imagemoments.centralMoment01',\n",
       " 'imagemoments.centralMoment02',\n",
       " 'imagemoments.centralMoment03',\n",
       " 'imagemoments.centralMoment10',\n",
       " 'imagemoments.centralMoment11',\n",
       " 'imagemoments.centralMoment12',\n",
       " 'imagemoments.centralMoment20',\n",
       " 'imagemoments.centralMoment21',\n",
       " 'imagemoments.centralMoment30',\n",
       " 'imagemoments.huMoment1',\n",
       " 'imagemoments.huMoment2',\n",
       " 'imagemoments.huMoment3',\n",
       " 'imagemoments.huMoment4',\n",
       " 'imagemoments.huMoment5',\n",
       " 'imagemoments.huMoment6',\n",
       " 'imagemoments.huMoment7',\n",
       " 'imagemoments.moment00',\n",
       " 'imagemoments.moment01',\n",
       " 'imagemoments.moment10',\n",
       " 'imagemoments.moment11',\n",
       " 'imagemoments.normalizedCentralMoment02',\n",
       " 'imagemoments.normalizedCentralMoment03',\n",
       " 'imagemoments.normalizedCentralMoment11',\n",
       " 'imagemoments.normalizedCentralMoment12',\n",
       " 'imagemoments.normalizedCentralMoment20',\n",
       " 'imagemoments.normalizedCentralMoment21',\n",
       " 'imagemoments.normalizedCentralMoment30',\n",
       " 'labeling.merge',\n",
       " 'lbp.lbp2D',\n",
       " 'logic.and',\n",
       " 'logic.equal',\n",
       " 'logic.greaterThan',\n",
       " 'logic.greaterThanOrEqual',\n",
       " 'logic.lessThan',\n",
       " 'logic.lessThanOrEqual',\n",
       " 'logic.not',\n",
       " 'logic.notEqual',\n",
       " 'logic.or',\n",
       " 'logic.xor',\n",
       " 'math.abs',\n",
       " 'math.add',\n",
       " 'math.and',\n",
       " 'math.arccos',\n",
       " 'math.arcsin',\n",
       " 'math.arctan',\n",
       " 'math.ceil',\n",
       " 'math.complement',\n",
       " 'math.complexConjugateMultiply',\n",
       " 'math.cos',\n",
       " 'math.cosh',\n",
       " 'math.cubeRoot',\n",
       " 'math.divide',\n",
       " 'math.exp',\n",
       " 'math.floor',\n",
       " 'math.leftShift',\n",
       " 'math.log',\n",
       " 'math.log10',\n",
       " 'math.logOnePlusX',\n",
       " 'math.max',\n",
       " 'math.min',\n",
       " 'math.multiply',\n",
       " 'math.negate',\n",
       " 'math.or',\n",
       " 'math.power',\n",
       " 'math.remainder',\n",
       " 'math.rightShift',\n",
       " 'math.round',\n",
       " 'math.signum',\n",
       " 'math.sin',\n",
       " 'math.sinh',\n",
       " 'math.sqrt',\n",
       " 'math.subtract',\n",
       " 'math.tan',\n",
       " 'math.tanh',\n",
       " 'math.unsignedRightShift',\n",
       " 'math.xor',\n",
       " 'math.zero',\n",
       " 'morphology.blackTopHat',\n",
       " 'morphology.close',\n",
       " 'morphology.dilate',\n",
       " 'morphology.erode',\n",
       " 'morphology.extractHoles',\n",
       " 'morphology.fillHoles',\n",
       " 'morphology.floodFill',\n",
       " 'morphology.open',\n",
       " 'morphology.outline',\n",
       " 'morphology.thinGuoHall',\n",
       " 'morphology.thinHilditch',\n",
       " 'morphology.thinMorphological',\n",
       " 'morphology.thinZhangSuen',\n",
       " 'morphology.topHat',\n",
       " 'segment.detectJunctions',\n",
       " 'segment.detectRidges',\n",
       " 'stats.size',\n",
       " 'tamura.coarseness',\n",
       " 'tamura.contrast',\n",
       " 'tamura.directionality',\n",
       " 'threshold.huang',\n",
       " 'threshold.ij1',\n",
       " 'threshold.intermodes',\n",
       " 'threshold.isoData',\n",
       " 'threshold.li',\n",
       " 'threshold.localBernsenThreshold',\n",
       " 'threshold.localContrastThreshold',\n",
       " 'threshold.localMeanThreshold',\n",
       " 'threshold.localMedianThreshold',\n",
       " 'threshold.localMidGreyThreshold',\n",
       " 'threshold.localNiblackThreshold',\n",
       " 'threshold.localPhansalkarThreshold',\n",
       " 'threshold.localSauvolaThreshold',\n",
       " 'threshold.maxEntropy',\n",
       " 'threshold.maxLikelihood',\n",
       " 'threshold.mean',\n",
       " 'threshold.minError',\n",
       " 'threshold.minimum',\n",
       " 'threshold.moments',\n",
       " 'threshold.otsu',\n",
       " 'threshold.percentile',\n",
       " 'threshold.renyiEntropy',\n",
       " 'threshold.rosin',\n",
       " 'threshold.shanbhag',\n",
       " 'threshold.triangle',\n",
       " 'threshold.yen',\n",
       " 'topology.boxCount',\n",
       " 'topology.eulerCharacteristic26N',\n",
       " 'topology.eulerCharacteristic26NFloating',\n",
       " 'topology.eulerCorrection',\n",
       " 'transform.addDimensionView',\n",
       " 'transform.collapseNumericView',\n",
       " 'transform.collapseRealView',\n",
       " 'transform.collapseView',\n",
       " 'transform.concatenateView',\n",
       " 'transform.crop',\n",
       " 'transform.dropSingletonDimensionsView',\n",
       " 'transform.extendBorderView',\n",
       " 'transform.extendMirrorDoubleView',\n",
       " 'transform.extendMirrorSingleView',\n",
       " 'transform.extendPeriodicView',\n",
       " 'transform.extendRandomView',\n",
       " 'transform.extendZeroView',\n",
       " 'transform.flatIterableView',\n",
       " 'transform.hyperSliceView',\n",
       " 'transform.intervalView',\n",
       " 'transform.invertAxisView',\n",
       " 'transform.offsetView',\n",
       " 'transform.permuteView',\n",
       " 'transform.rotateView',\n",
       " 'transform.shearView',\n",
       " 'transform.stackView',\n",
       " 'transform.subsampleView',\n",
       " 'transform.unshearView',\n",
       " 'transform.zeroMinView',\n",
       " 'zernike.magnitude',\n",
       " 'zernike.phase']"
      ]
     },
     "execution_count": 34,
     "metadata": {},
     "output_type": "execute_result"
    }
   ],
   "source": [
    "import pandas as pd\n",
    "\n",
    "def get_ops_with_mapping_table_input_types(ij, mapping_table):\n",
    "    # Read the Excel file\n",
    "    df = pd.read_excel(mapping_table)\n",
    "\n",
    "    # Get the input types from the first column\n",
    "    input_types = df.iloc[:, 0].tolist()\n",
    "    print(\"This is input_types in table\")\n",
    "    print(input_types)\n",
    "    # Get the OpService\n",
    "    ops = ij.op()\n",
    "\n",
    "    # Get all OpInfo objects\n",
    "    all_infos = ops.infos()\n",
    "\n",
    "    # Initialize a list to store Op names\n",
    "    op_names = []\n",
    "\n",
    "    # Iterate over all OpInfo objects\n",
    "    for info in all_infos:\n",
    "        # Get the inputs\n",
    "        inputs = info.inputs()\n",
    "\n",
    "        # Initialize a flag to check if all required inputs are in the list\n",
    "        all_required_inputs_in_list = True\n",
    "\n",
    "        # Iterate over the inputs\n",
    "        for input in inputs:\n",
    "            if input.isRequired():\n",
    "                # Get the type of the input\n",
    "                current_input_type = str(input.getType())\n",
    "\n",
    "                # Remove 'interface ' or 'class ' prefix from the type string\n",
    "                if current_input_type.startswith('interface '):\n",
    "                    current_input_type = current_input_type[len('interface '):]\n",
    "                elif current_input_type.startswith('class '):\n",
    "                    current_input_type = current_input_type[len('class '):]\n",
    "\n",
    "                # Check if the current input type is in the list\n",
    "                if current_input_type not in input_types:\n",
    "                    all_required_inputs_in_list = False\n",
    "                    break\n",
    "\n",
    "                    \n",
    "        # If all required inputs are in the list, add the Op name to the list\n",
    "        if all_required_inputs_in_list:\n",
    "            op_name = info.getName()\n",
    "            if op_name is not None and op_name != 'map':\n",
    "                op_names.append(op_name)\n",
    "    # Remove duplicates and sort the list of Op names in alphabetical order\n",
    "    op_names = sorted(list(set(op_names)))\n",
    "    # Return the list of Op names\n",
    "    return op_names\n",
    "pure_op_names= {}\n",
    "pure_op_names= get_ops_with_mapping_table_input_types(ij,\"mapping_common_input_java_types_full.xlsx\")\n",
    "pure_op_names"
   ]
  },
  {
   "cell_type": "code",
   "execution_count": 28,
   "id": "1fd484f9-62ee-4014-a823-ac5026b2ef96",
   "metadata": {},
   "outputs": [
    {
     "data": {
      "text/plain": [
       "'Available operations:\n",
       "\t(RealType out?) =\n",
       "\tnet.imagej.ops.imagemoments.normalizedcentralmoments.DefaultNormalizedCentralMoment02(\n",
       "\t\tRealType out?,\n",
       "\t\tIterableInterval in)'"
      ]
     },
     "execution_count": 28,
     "metadata": {},
     "output_type": "execute_result"
    }
   ],
   "source": [
    "ij.op().help(\"imagemoments.normalizedCentralMoment02\")"
   ]
  },
  {
   "cell_type": "markdown",
   "id": "913ffd6f-2b73-4bd9-8f17-b2dd3612200c",
   "metadata": {},
   "source": [
    "### Test a small unit of `op_calling` in class CodeSnippetGen"
   ]
  },
  {
   "cell_type": "code",
   "execution_count": 56,
   "id": "eeaefb1a-6f48-4f5d-9c22-0c55a5d2f72b",
   "metadata": {},
   "outputs": [
    {
     "name": "stdout",
     "output_type": "stream",
     "text": [
      "{'datatype': 'integer', 'jimport': 'None', 'specific_usage': 'None', 'parameter': 'None', 'default_value': 5}\n"
     ]
    }
   ],
   "source": [
    "import pandas as pd\n",
    "type_mapping_table_file = 'mapping_common_input_java_types_full.xlsx'\n",
    "def mapping_xlsx_to_mapping_dict(file_path):\n",
    "    df = pd.read_excel(file_path,index_col = 0)\n",
    "    data_dict = df.to_dict('index')\n",
    "    return data_dict\n",
    "mapping_dict = mapping_xlsx_to_mapping_dict(type_mapping_table_file)\n",
    "print(mapping_dict['net.imglib2.type.numeric.IntegerType'])\n",
    "def get_op_info_list(op_name):\n",
    "    ops = ij.op()\n",
    "    all_infos = ops.infos()\n",
    "    op_info_list = [info for info in all_infos if info.getName() == op_name]\n",
    "    return op_info_list"
   ]
  },
  {
   "cell_type": "code",
   "execution_count": 58,
   "id": "8e0b0ac0-f675-41de-aa6a-82eca2ae0605",
   "metadata": {},
   "outputs": [],
   "source": [
    "\n",
    "def op_calling_and_running(op_info, mapping_dict):                   \n",
    "        code = 'result_image= ij.op().run(Op_name, ij.py.jargs('\n",
    "        args = []\n",
    "        for input in op_info.inputs():\n",
    "            if not input.isRequired():\n",
    "                args.append('None')\n",
    "                print(\"We ignore ：\")\n",
    "                print(input.getType())\n",
    "                print(input)\n",
    "                continue\n",
    "                \n",
    "            print(input)\n",
    "            current_input_type = str(input.getType())\n",
    "            if current_input_type.startswith('interface '):\n",
    "                current_input_type = current_input_type[len('interface '):]\n",
    "            elif current_input_type.startswith('class '):\n",
    "                current_input_type = current_input_type[len('class '):]\n",
    "    \n",
    "            if current_input_type in mapping_dict:\n",
    "                if mapping_dict[current_input_type]['specific_usage'] not in {None, 'None'}:\n",
    "                    args.append(mapping_dict[current_input_type]['specific_usage'])\n",
    "                elif mapping_dict[current_input_type]['parameter'] not in {None, 'None'}:\n",
    "                    args.append(mapping_dict[current_input_type]['parameter'])\n",
    "                else:\n",
    "                    print(f\"Please provide parameter for your type:{current_input_type} in the mapping table\") \n",
    "            else: \n",
    "                args.append('None')\n",
    "                print(f\"This{current_input_type} is not in the mapping table\")\n",
    "                        \n",
    "            # Check if the input is an output and is required\n",
    "            if input.isOutput() and input.isRequired():\n",
    "                # Change the current argument to 'result_image'\n",
    "                args[-1] = 'result_image'\n",
    "    \n",
    "        # Join the arguments with ', ' and add them to the function call\n",
    "        code += ', '.join(args) + '))\\n'\n",
    "        return code"
   ]
  },
  {
   "cell_type": "code",
   "execution_count": 17,
   "id": "df897403-b5be-4cb8-9012-c6ee1c03eabd",
   "metadata": {},
   "outputs": [
    {
     "data": {
      "text/plain": [
       "<java object 'net.imagej.ops.OpInfo'>"
      ]
     },
     "execution_count": 17,
     "metadata": {},
     "output_type": "execute_result"
    }
   ],
   "source": [
    "convert_op_list = get_op_info_list(\"convert.bit\")\n",
    "convert_op_list[1]"
   ]
  },
  {
   "cell_type": "code",
   "execution_count": 11,
   "id": "8cc7bc1c-3eac-4bea-83d8-eadd057ef39d",
   "metadata": {},
   "outputs": [
    {
     "data": {
      "text/plain": [
       "'Available operations:\n",
       "\t(BitType out?) =\n",
       "\tnet.imagej.ops.convert.ConvertTypes$IntegerToBit(\n",
       "\t\tBitType out?,\n",
       "\t\tIntegerType in)\n",
       "\t(Img out?) =\n",
       "\tnet.imagej.ops.convert.ConvertImages$Bit(\n",
       "\t\tImg out?,\n",
       "\t\tIterableInterval in)\n",
       "\t(BitType out?) =\n",
       "\tnet.imagej.ops.convert.ConvertTypes$ComplexToBit(\n",
       "\t\tBitType out?,\n",
       "\t\tComplexType in)'"
      ]
     },
     "execution_count": 11,
     "metadata": {},
     "output_type": "execute_result"
    }
   ],
   "source": [
    "ij.op().help(\"convert.bit\")"
   ]
  },
  {
   "cell_type": "code",
   "execution_count": 59,
   "id": "61942079-6ca3-4971-98b6-089c34e94035",
   "metadata": {},
   "outputs": [
    {
     "name": "stdout",
     "output_type": "stream",
     "text": [
      "We ignore ：\n",
      "class net.imglib2.type.logic.BitType\n",
      "out: required=false, persisted=true\n",
      "in: required=true, persisted=true\n",
      "please provide parameter for your type:net.imglib2.type.numeric.IntegerType in the mapping table\n",
      "this is the final op calling code\n",
      "result_image= ij.op().run(Op_name, ij.py.jargs(None))\n",
      "\n"
     ]
    },
    {
     "data": {
      "text/plain": [
       "'result_image= ij.op().run(Op_name, ij.py.jargs(None))\\n'"
      ]
     },
     "execution_count": 59,
     "metadata": {},
     "output_type": "execute_result"
    }
   ],
   "source": [
    "code = op_calling_and_running(convert_op_list[0],mapping_dict)\n",
    "code "
   ]
  }
 ],
 "metadata": {
  "kernelspec": {
   "display_name": "Python (pyimagej)",
   "language": "python",
   "name": "pyimagej"
  },
  "language_info": {
   "codemirror_mode": {
    "name": "ipython",
    "version": 3
   },
   "file_extension": ".py",
   "mimetype": "text/x-python",
   "name": "python",
   "nbconvert_exporter": "python",
   "pygments_lexer": "ipython3",
   "version": "3.8.18"
  }
 },
 "nbformat": 4,
 "nbformat_minor": 5
}
